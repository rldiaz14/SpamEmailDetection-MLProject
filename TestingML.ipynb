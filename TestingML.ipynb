{
 "cells": [
  {
   "cell_type": "code",
   "execution_count": 2,
   "metadata": {},
   "outputs": [],
   "source": [
    "import numpy as np\n",
    "import matplotlib.pyplot as plt\n",
    "from sklearn.linear_model import LogisticRegression\n",
    "from sklearn.svm import LinearSVC\n",
    "from sklearn.metrics import accuracy_score, precision_score, recall_score, f1_score, confusion_matrix\n",
    "from preprocess_data import preprocess_data\n",
    "import os\n",
    "import seaborn as sns"
   ]
  },
  {
   "cell_type": "code",
   "execution_count": 3,
   "metadata": {},
   "outputs": [
    {
     "name": "stdout",
     "output_type": "stream",
     "text": [
      "Loading data...\n",
      "Cleaning texts...\n",
      "Creating vocabulary...\n",
      "Computing IDF values...\n",
      "Converting texts to TF-IDF features...\n",
      "Splitting into train/test sets...\n",
      "Normalizing features...\n",
      "\n",
      "Preprocessing complete!\n",
      "Vocabulary size: 18534\n",
      "Training set shape: (4583, 18534)\n",
      "Testing set shape: (1145, 18534)\n"
     ]
    }
   ],
   "source": [
    "working_dir = r\"F:\\EmailDetectionSpam\\emails.csv\"\n",
    "file_name = \"emails.csv\"\n",
    "data_dir = os.path.join(working_dir, file_name)\n",
    "data = preprocess_data(data_dir)    # Preprocess the data\n",
    "\n"
   ]
  },
  {
   "cell_type": "markdown",
   "metadata": {},
   "source": [
    "Load data in variable"
   ]
  },
  {
   "cell_type": "code",
   "execution_count": 4,
   "metadata": {},
   "outputs": [],
   "source": [
    "X_train = data['X_train']\n",
    "X_test = data['X_test']\n",
    "y_train = data['y_train']\n",
    "y_test = data['y_test']"
   ]
  },
  {
   "cell_type": "markdown",
   "metadata": {},
   "source": [
    "Training logitics Regression"
   ]
  },
  {
   "cell_type": "code",
   "execution_count": 5,
   "metadata": {},
   "outputs": [
    {
     "data": {
      "text/html": [
       "<style>#sk-container-id-1 {color: black;background-color: white;}#sk-container-id-1 pre{padding: 0;}#sk-container-id-1 div.sk-toggleable {background-color: white;}#sk-container-id-1 label.sk-toggleable__label {cursor: pointer;display: block;width: 100%;margin-bottom: 0;padding: 0.3em;box-sizing: border-box;text-align: center;}#sk-container-id-1 label.sk-toggleable__label-arrow:before {content: \"▸\";float: left;margin-right: 0.25em;color: #696969;}#sk-container-id-1 label.sk-toggleable__label-arrow:hover:before {color: black;}#sk-container-id-1 div.sk-estimator:hover label.sk-toggleable__label-arrow:before {color: black;}#sk-container-id-1 div.sk-toggleable__content {max-height: 0;max-width: 0;overflow: hidden;text-align: left;background-color: #f0f8ff;}#sk-container-id-1 div.sk-toggleable__content pre {margin: 0.2em;color: black;border-radius: 0.25em;background-color: #f0f8ff;}#sk-container-id-1 input.sk-toggleable__control:checked~div.sk-toggleable__content {max-height: 200px;max-width: 100%;overflow: auto;}#sk-container-id-1 input.sk-toggleable__control:checked~label.sk-toggleable__label-arrow:before {content: \"▾\";}#sk-container-id-1 div.sk-estimator input.sk-toggleable__control:checked~label.sk-toggleable__label {background-color: #d4ebff;}#sk-container-id-1 div.sk-label input.sk-toggleable__control:checked~label.sk-toggleable__label {background-color: #d4ebff;}#sk-container-id-1 input.sk-hidden--visually {border: 0;clip: rect(1px 1px 1px 1px);clip: rect(1px, 1px, 1px, 1px);height: 1px;margin: -1px;overflow: hidden;padding: 0;position: absolute;width: 1px;}#sk-container-id-1 div.sk-estimator {font-family: monospace;background-color: #f0f8ff;border: 1px dotted black;border-radius: 0.25em;box-sizing: border-box;margin-bottom: 0.5em;}#sk-container-id-1 div.sk-estimator:hover {background-color: #d4ebff;}#sk-container-id-1 div.sk-parallel-item::after {content: \"\";width: 100%;border-bottom: 1px solid gray;flex-grow: 1;}#sk-container-id-1 div.sk-label:hover label.sk-toggleable__label {background-color: #d4ebff;}#sk-container-id-1 div.sk-serial::before {content: \"\";position: absolute;border-left: 1px solid gray;box-sizing: border-box;top: 0;bottom: 0;left: 50%;z-index: 0;}#sk-container-id-1 div.sk-serial {display: flex;flex-direction: column;align-items: center;background-color: white;padding-right: 0.2em;padding-left: 0.2em;position: relative;}#sk-container-id-1 div.sk-item {position: relative;z-index: 1;}#sk-container-id-1 div.sk-parallel {display: flex;align-items: stretch;justify-content: center;background-color: white;position: relative;}#sk-container-id-1 div.sk-item::before, #sk-container-id-1 div.sk-parallel-item::before {content: \"\";position: absolute;border-left: 1px solid gray;box-sizing: border-box;top: 0;bottom: 0;left: 50%;z-index: -1;}#sk-container-id-1 div.sk-parallel-item {display: flex;flex-direction: column;z-index: 1;position: relative;background-color: white;}#sk-container-id-1 div.sk-parallel-item:first-child::after {align-self: flex-end;width: 50%;}#sk-container-id-1 div.sk-parallel-item:last-child::after {align-self: flex-start;width: 50%;}#sk-container-id-1 div.sk-parallel-item:only-child::after {width: 0;}#sk-container-id-1 div.sk-dashed-wrapped {border: 1px dashed gray;margin: 0 0.4em 0.5em 0.4em;box-sizing: border-box;padding-bottom: 0.4em;background-color: white;}#sk-container-id-1 div.sk-label label {font-family: monospace;font-weight: bold;display: inline-block;line-height: 1.2em;}#sk-container-id-1 div.sk-label-container {text-align: center;}#sk-container-id-1 div.sk-container {/* jupyter's `normalize.less` sets `[hidden] { display: none; }` but bootstrap.min.css set `[hidden] { display: none !important; }` so we also need the `!important` here to be able to override the default hidden behavior on the sphinx rendered scikit-learn.org. See: https://github.com/scikit-learn/scikit-learn/issues/21755 */display: inline-block !important;position: relative;}#sk-container-id-1 div.sk-text-repr-fallback {display: none;}</style><div id=\"sk-container-id-1\" class=\"sk-top-container\"><div class=\"sk-text-repr-fallback\"><pre>LogisticRegression(max_iter=1000)</pre><b>In a Jupyter environment, please rerun this cell to show the HTML representation or trust the notebook. <br />On GitHub, the HTML representation is unable to render, please try loading this page with nbviewer.org.</b></div><div class=\"sk-container\" hidden><div class=\"sk-item\"><div class=\"sk-estimator sk-toggleable\"><input class=\"sk-toggleable__control sk-hidden--visually\" id=\"sk-estimator-id-1\" type=\"checkbox\" checked><label for=\"sk-estimator-id-1\" class=\"sk-toggleable__label sk-toggleable__label-arrow\">LogisticRegression</label><div class=\"sk-toggleable__content\"><pre>LogisticRegression(max_iter=1000)</pre></div></div></div></div></div>"
      ],
      "text/plain": [
       "LogisticRegression(max_iter=1000)"
      ]
     },
     "execution_count": 5,
     "metadata": {},
     "output_type": "execute_result"
    }
   ],
   "source": [
    "logistic_model = LogisticRegression(max_iter=1000, solver='lbfgs')\n",
    "logistic_model.fit(X_train, y_train)\n"
   ]
  },
  {
   "cell_type": "markdown",
   "metadata": {},
   "source": [
    "Training SVM"
   ]
  },
  {
   "cell_type": "code",
   "execution_count": 6,
   "metadata": {},
   "outputs": [
    {
     "data": {
      "text/html": [
       "<style>#sk-container-id-2 {color: black;background-color: white;}#sk-container-id-2 pre{padding: 0;}#sk-container-id-2 div.sk-toggleable {background-color: white;}#sk-container-id-2 label.sk-toggleable__label {cursor: pointer;display: block;width: 100%;margin-bottom: 0;padding: 0.3em;box-sizing: border-box;text-align: center;}#sk-container-id-2 label.sk-toggleable__label-arrow:before {content: \"▸\";float: left;margin-right: 0.25em;color: #696969;}#sk-container-id-2 label.sk-toggleable__label-arrow:hover:before {color: black;}#sk-container-id-2 div.sk-estimator:hover label.sk-toggleable__label-arrow:before {color: black;}#sk-container-id-2 div.sk-toggleable__content {max-height: 0;max-width: 0;overflow: hidden;text-align: left;background-color: #f0f8ff;}#sk-container-id-2 div.sk-toggleable__content pre {margin: 0.2em;color: black;border-radius: 0.25em;background-color: #f0f8ff;}#sk-container-id-2 input.sk-toggleable__control:checked~div.sk-toggleable__content {max-height: 200px;max-width: 100%;overflow: auto;}#sk-container-id-2 input.sk-toggleable__control:checked~label.sk-toggleable__label-arrow:before {content: \"▾\";}#sk-container-id-2 div.sk-estimator input.sk-toggleable__control:checked~label.sk-toggleable__label {background-color: #d4ebff;}#sk-container-id-2 div.sk-label input.sk-toggleable__control:checked~label.sk-toggleable__label {background-color: #d4ebff;}#sk-container-id-2 input.sk-hidden--visually {border: 0;clip: rect(1px 1px 1px 1px);clip: rect(1px, 1px, 1px, 1px);height: 1px;margin: -1px;overflow: hidden;padding: 0;position: absolute;width: 1px;}#sk-container-id-2 div.sk-estimator {font-family: monospace;background-color: #f0f8ff;border: 1px dotted black;border-radius: 0.25em;box-sizing: border-box;margin-bottom: 0.5em;}#sk-container-id-2 div.sk-estimator:hover {background-color: #d4ebff;}#sk-container-id-2 div.sk-parallel-item::after {content: \"\";width: 100%;border-bottom: 1px solid gray;flex-grow: 1;}#sk-container-id-2 div.sk-label:hover label.sk-toggleable__label {background-color: #d4ebff;}#sk-container-id-2 div.sk-serial::before {content: \"\";position: absolute;border-left: 1px solid gray;box-sizing: border-box;top: 0;bottom: 0;left: 50%;z-index: 0;}#sk-container-id-2 div.sk-serial {display: flex;flex-direction: column;align-items: center;background-color: white;padding-right: 0.2em;padding-left: 0.2em;position: relative;}#sk-container-id-2 div.sk-item {position: relative;z-index: 1;}#sk-container-id-2 div.sk-parallel {display: flex;align-items: stretch;justify-content: center;background-color: white;position: relative;}#sk-container-id-2 div.sk-item::before, #sk-container-id-2 div.sk-parallel-item::before {content: \"\";position: absolute;border-left: 1px solid gray;box-sizing: border-box;top: 0;bottom: 0;left: 50%;z-index: -1;}#sk-container-id-2 div.sk-parallel-item {display: flex;flex-direction: column;z-index: 1;position: relative;background-color: white;}#sk-container-id-2 div.sk-parallel-item:first-child::after {align-self: flex-end;width: 50%;}#sk-container-id-2 div.sk-parallel-item:last-child::after {align-self: flex-start;width: 50%;}#sk-container-id-2 div.sk-parallel-item:only-child::after {width: 0;}#sk-container-id-2 div.sk-dashed-wrapped {border: 1px dashed gray;margin: 0 0.4em 0.5em 0.4em;box-sizing: border-box;padding-bottom: 0.4em;background-color: white;}#sk-container-id-2 div.sk-label label {font-family: monospace;font-weight: bold;display: inline-block;line-height: 1.2em;}#sk-container-id-2 div.sk-label-container {text-align: center;}#sk-container-id-2 div.sk-container {/* jupyter's `normalize.less` sets `[hidden] { display: none; }` but bootstrap.min.css set `[hidden] { display: none !important; }` so we also need the `!important` here to be able to override the default hidden behavior on the sphinx rendered scikit-learn.org. See: https://github.com/scikit-learn/scikit-learn/issues/21755 */display: inline-block !important;position: relative;}#sk-container-id-2 div.sk-text-repr-fallback {display: none;}</style><div id=\"sk-container-id-2\" class=\"sk-top-container\"><div class=\"sk-text-repr-fallback\"><pre>LinearSVC(max_iter=10000)</pre><b>In a Jupyter environment, please rerun this cell to show the HTML representation or trust the notebook. <br />On GitHub, the HTML representation is unable to render, please try loading this page with nbviewer.org.</b></div><div class=\"sk-container\" hidden><div class=\"sk-item\"><div class=\"sk-estimator sk-toggleable\"><input class=\"sk-toggleable__control sk-hidden--visually\" id=\"sk-estimator-id-2\" type=\"checkbox\" checked><label for=\"sk-estimator-id-2\" class=\"sk-toggleable__label sk-toggleable__label-arrow\">LinearSVC</label><div class=\"sk-toggleable__content\"><pre>LinearSVC(max_iter=10000)</pre></div></div></div></div></div>"
      ],
      "text/plain": [
       "LinearSVC(max_iter=10000)"
      ]
     },
     "execution_count": 6,
     "metadata": {},
     "output_type": "execute_result"
    }
   ],
   "source": [
    "svm_model = LinearSVC(C=1.0, max_iter=10000)\n",
    "svm_model.fit(X_train, y_train)"
   ]
  },
  {
   "cell_type": "markdown",
   "metadata": {},
   "source": [
    "Predictions"
   ]
  },
  {
   "cell_type": "code",
   "execution_count": 25,
   "metadata": {},
   "outputs": [],
   "source": [
    "y_pred_logistic = logistic_model.predict(X_test)\n",
    "y_pred_svm = svm_model.predict(X_test)"
   ]
  },
  {
   "cell_type": "markdown",
   "metadata": {},
   "source": [
    "Evaluate models"
   ]
  },
  {
   "cell_type": "code",
   "execution_count": 45,
   "metadata": {},
   "outputs": [],
   "source": [
    "metrics = {\n",
    "    \"Accuracy\": accuracy_score(y_test, y_pred_logistic),\n",
    "    \"Precision\": precision_score(y_test, y_pred_logistic),\n",
    "    \"Recall\": recall_score(y_test, y_pred_logistic),\n",
    "    \"F1 Score\": f1_score(y_test, y_pred_logistic),\n",
    "    \"Confusion Matrix\": confusion_matrix(y_test, y_pred_logistic)\n",
    "}\n",
    "\n",
    "metrics_svm = {\n",
    "    \"Accuracy\": accuracy_score(y_test, y_pred_svm),\n",
    "    \"Precision\": precision_score(y_test, y_pred_svm),\n",
    "    \"Recall\": recall_score(y_test, y_pred_svm),\n",
    "    \"F1 Score\": f1_score(y_test, y_pred_svm),\n",
    "    \"Confusion Matrix\": confusion_matrix(y_test, y_pred_svm)\n",
    "}"
   ]
  },
  {
   "cell_type": "code",
   "execution_count": 46,
   "metadata": {},
   "outputs": [
    {
     "name": "stdout",
     "output_type": "stream",
     "text": [
      "SVM\n",
      "Accuracy: 0.97117903930131\n",
      "Precision: 0.921311475409836\n",
      "Recall: 0.9689655172413794\n",
      "F1 Score: 0.9445378151260504\n",
      "Confusion Matrix: [[831  24]\n",
      " [  9 281]]\n"
     ]
    }
   ],
   "source": [
    "print(\"SVM\")\n",
    "for metric, value in metrics_svm.items():\n",
    "    print(f\"{metric}: {value}\")"
   ]
  },
  {
   "cell_type": "code",
   "execution_count": 42,
   "metadata": {},
   "outputs": [
    {
     "name": "stdout",
     "output_type": "stream",
     "text": [
      "Logistic Regression Metrics:\n",
      "\n",
      "Accuracy: 0.97117903930131\n",
      "Precision: 0.9776951672862454\n",
      "Recall: 0.906896551724138\n",
      "F1 Score: 0.9409660107334527\n",
      "Confusion Matrix: [[849   6]\n",
      " [ 27 263]]\n"
     ]
    }
   ],
   "source": [
    "print(\"Logistic Regression Metrics:\\n\")\n",
    "for metric, value in metrics.items():\n",
    "    print(f\"{metric}: {value}\")\n",
    "    \n"
   ]
  },
  {
   "cell_type": "code",
   "execution_count": 31,
   "metadata": {},
   "outputs": [],
   "source": [
    "import os\n",
    "import numpy as np\n",
    "from sklearn.linear_model import SGDClassifier\n",
    "from sklearn.calibration import CalibratedClassifierCV\n",
    "from sklearn.utils import resample\n",
    "from sklearn.metrics import accuracy_score, precision_score, recall_score, f1_score, confusion_matrix\n",
    "import time\n",
    "from preprocess_data import preprocess_data\n",
    "from sklearn.ensemble import RandomForestClassifier\n",
    "\n",
    "\n",
    "\n"
   ]
  },
  {
   "cell_type": "code",
   "execution_count": 32,
   "metadata": {},
   "outputs": [],
   "source": [
    "def train_rf(X_train, y_train, n_estimators=200, max_depth=None, min_samples_split=5, verbose=False):\n",
    "    \"\"\"Train an optimized Random Forest model for spam classification.\"\"\"\n",
    "    start_time = time.time()\n",
    "\n",
    "    # Create a Random Forest classifier with optimized hyperparameters\n",
    "    rf_clf = RandomForestClassifier(\n",
    "        n_estimators=n_estimators,  # Number of trees (Increase for better accuracy)\n",
    "        max_depth=max_depth,  # Limits depth of trees to prevent overfitting\n",
    "        min_samples_split=min_samples_split,  # Minimum samples per split (Prevents overfitting)\n",
    "        random_state=42,  # Reproducibility\n",
    "        n_jobs=-1,  # Use all CPU cores for faster training\n",
    "        verbose=1 if verbose else 0\n",
    "    )\n",
    "\n",
    "    # Train the model\n",
    "    rf_clf.fit(X_train, y_train)\n",
    "\n",
    "    print(f\"\\nRandom Forest Training completed in {time.time() - start_time:.2f} seconds\")\n",
    "    \n",
    "    return rf_clf"
   ]
  },
  {
   "cell_type": "code",
   "execution_count": 33,
   "metadata": {},
   "outputs": [],
   "source": [
    "def train_svm(X_train, y_train, max_iter=5000, C=1.0, alpha=0.00005,verbose=False):\n",
    "\n",
    "    # Create and train SVM model\n",
    "    start_time = time.time()\n",
    "    \n",
    "    # Linear SVM chosen for spam classification due to efficiency with high-dimensional, sparse text data\n",
    "    # Provides good generalization while allowing interpretability of word importance weights\n",
    "    svm_clf = SGDClassifier(loss='hinge',max_iter=max_iter, tol=1e-3, random_state=42,verbose=verbose)\n",
    "    svm_clf.fit(X_train, y_train)\n",
    "    \n",
    "    # Calibrate model to output probabilities\n",
    "    calibrated_model = CalibratedClassifierCV(svm_clf, cv=3)\n",
    "    calibrated_model.fit(X_train, y_train)\n",
    "    \n",
    "    print(f\"\\nSVM Training completed in {time.time() - start_time:.2f} seconds\")\n",
    "    \n",
    "    return calibrated_model"
   ]
  },
  {
   "cell_type": "code",
   "execution_count": 34,
   "metadata": {},
   "outputs": [],
   "source": [
    "\n",
    "def evaluate_model(model, X_train, y_train, X_test, y_test, model_name='Model'):\n",
    "        \n",
    "        # Evaluate the model\n",
    "        y_train_pred = model.predict(X_train)\n",
    "        y_test_pred = model.predict(X_test)\n",
    "        \n",
    "       \n",
    "        \n",
    "        metrics = {\n",
    "            'train_accuracy': accuracy_score(y_train, y_train_pred),\n",
    "            'test_accuracy': accuracy_score(y_test, y_test_pred),\n",
    "            'train_precision': precision_score(y_train, y_train_pred),\n",
    "            'recall': recall_score(y_test, y_test_pred),\n",
    "            'f1_score': f1_score(y_test, y_test_pred),\n",
    "            'confusion_matrix': confusion_matrix(y_test, y_test_pred)\n",
    "        }\n",
    "        print(f\"\\n{model_name} Evaluation Results:\")\n",
    "        print(f\"Training Accuracy: {metrics['train_accuracy']:.4f}\")\n",
    "        print(f\"Testing Accuracy: {metrics['test_accuracy']:.4f}\")\n",
    "        print(f\"Confusion Matrix:\\n{metrics['confusion_matrix']}\")\n",
    "        \n",
    "        return metrics"
   ]
  },
  {
   "cell_type": "code",
   "execution_count": null,
   "metadata": {},
   "outputs": [],
   "source": [
    "def run_models():\n",
    "    \n",
    "    working_dir = r\"F:\\EmailDetectionSpam\\emails.csv\"\n",
    "    file_name = \"emails.csv\"\n",
    "    data_dir = os.path.join(working_dir, file_name)\n",
    "    \n",
    "    print(\"-\" * 50)\n",
    "    print(\"SPAM CLASSIFICATION USING SCIKIT-LEARN SVM\")\n",
    "    print(\"-\" * 50)\n",
    "    \n",
    "    # Preprocess the data\n",
    "    print(\"\\nPreprocessing the data...\")\n",
    "    start_time = time.time()\n",
    "    preprocessed_data = preprocess_data(data_dir)\n",
    "    preprocess_time = time.time() - start_time\n",
    "    print(f\"Preprocessing completed in {preprocess_time:.2f} seconds\")\n",
    "    \n",
    "    X_train = preprocessed_data['X_train']\n",
    "    X_test = preprocessed_data['X_test']\n",
    "    y_train = preprocessed_data['y_train']\n",
    "    y_test = preprocessed_data['y_test']\n",
    "    vocabulary = preprocessed_data['vocabulary']\n",
    "    \n",
    "    print(f\"\\nDataset Information:\")\n",
    "    print(f\"Number of features (vocabulary size): {len(vocabulary)}\")\n",
    "    print(f\"Training set: {X_train.shape[0]} samples\")\n",
    "    print(f\"Testing set: {X_test.shape[0]} samples\")\n",
    "    print(f\"Spam ratio in training set: {np.mean(y_train):.2f}\")\n",
    "    \n",
    "    # Train the SVM model\n",
    "    print(\"\\nTraining the SVM model...\")\n",
    "    svm_model = train_svm(X_train, y_train)\n",
    "\n",
    "    # Train Random Forest model\n",
    "    print(\"\\nTraining the Random Forest model...\")\n",
    "    rf_model = train_rf(X_train, y_train)\n",
    "\n",
    "    # Evaluate both models\n",
    "    evaluate_model(svm_model, X_train, y_train, X_test, y_test, \"SVM\")\n",
    "    evaluate_model(rf_model, X_train, y_train, X_test, y_test, \"Random Forest\")\n",
    "\n",
    "   \n",
    "\n",
    " \n",
    "    \n"
   ]
  },
  {
   "cell_type": "code",
   "execution_count": 36,
   "metadata": {},
   "outputs": [
    {
     "name": "stdout",
     "output_type": "stream",
     "text": [
      "--------------------------------------------------\n",
      "SPAM CLASSIFICATION USING SCIKIT-LEARN SVM\n",
      "--------------------------------------------------\n",
      "\n",
      "Preprocessing the data...\n",
      "Loading data...\n",
      "Cleaning texts...\n",
      "Creating vocabulary...\n",
      "Computing IDF values...\n",
      "Converting texts to TF-IDF features...\n",
      "Splitting into train/test sets...\n",
      "Normalizing features...\n",
      "\n",
      "Preprocessing complete!\n",
      "Vocabulary size: 18534\n",
      "Training set shape: (4583, 18534)\n",
      "Testing set shape: (1145, 18534)\n",
      "Preprocessing completed in 2.13 seconds\n",
      "\n",
      "Dataset Information:\n",
      "Number of features (vocabulary size): 18534\n",
      "Training set: 4583 samples\n",
      "Testing set: 1145 samples\n",
      "Spam ratio in training set: 0.24\n",
      "\n",
      "Training the SVM model...\n",
      "\n",
      "SVM Training completed in 2.82 seconds\n",
      "\n",
      "Evaluating the model...\n",
      "\n",
      "Model Evaluation Results:\n",
      "Training Accuracy: 0.9998\n",
      "Testing Accuracy: 0.9493\n",
      "Confusion Matrix:\n",
      "[[842  13]\n",
      " [ 45 245]]\n",
      "\n",
      "Evaluation Results:\n",
      "Training Accuracy: 0.9998\n",
      "Testing Accuracy: 0.9493\n",
      "Confusion Matrix:\n",
      "[[842  13]\n",
      " [ 45 245]]\n"
     ]
    }
   ],
   "source": [
    "if __name__ == \"__main__\":\n",
    "    run_svm()"
   ]
  }
 ],
 "metadata": {
  "kernelspec": {
   "display_name": "Python 3",
   "language": "python",
   "name": "python3"
  },
  "language_info": {
   "codemirror_mode": {
    "name": "ipython",
    "version": 3
   },
   "file_extension": ".py",
   "mimetype": "text/x-python",
   "name": "python",
   "nbconvert_exporter": "python",
   "pygments_lexer": "ipython3",
   "version": "3.8.10"
  }
 },
 "nbformat": 4,
 "nbformat_minor": 2
}
