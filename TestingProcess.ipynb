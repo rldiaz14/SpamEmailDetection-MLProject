{
 "cells": [
  {
   "cell_type": "code",
   "execution_count": 25,
   "metadata": {},
   "outputs": [],
   "source": [
    "import numpy as np \n",
    "import pandas as pd \n",
    "from collections import Counter\n",
    "import re\n",
    "import string\n",
    "import random\n",
    "import math\n"
   ]
  },
  {
   "cell_type": "code",
   "execution_count": 6,
   "metadata": {},
   "outputs": [],
   "source": [
    "def load_data(file_path):\n",
    "    df = pd.read_csv(file_path)\n",
    "    df.columns = ['text', 'spam']\n",
    "    df.dropna(inplace=True)\n",
    "    return df\n"
   ]
  },
  {
   "cell_type": "code",
   "execution_count": 9,
   "metadata": {},
   "outputs": [
    {
     "name": "stdout",
     "output_type": "stream",
     "text": [
      "                                                text  spam\n",
      "0  Subject: naturally irresistible your corporate...     1\n",
      "1  Subject: the stock trading gunslinger  fanny i...     1\n",
      "2  Subject: unbelievable new homes made easy  im ...     1\n",
      "3  Subject: 4 color printing special  request add...     1\n",
      "4  Subject: do not have money , get software cds ...     1\n",
      "Dataset shape:  (5728, 2)\n"
     ]
    }
   ],
   "source": [
    "df = load_data(r'F:\\EmailDetectionSpam\\emails.csv\\emails.csv')\n",
    "print(df.head())\n",
    "print(\"Dataset shape: \", df.shape)"
   ]
  },
  {
   "cell_type": "markdown",
   "metadata": {},
   "source": [
    "Clean text (Lowercase, Remove Puntuation, Numbers, and Emails )"
   ]
  },
  {
   "cell_type": "code",
   "execution_count": 12,
   "metadata": {},
   "outputs": [],
   "source": [
    "def clean_text(text):\n",
    "    text = text.lower()\n",
    "    text = re.sub(r'\\d+', '', text) # remove numbers\n",
    "    text = re.sub(r'\\S*@\\S*\\s?', '', text) # remove emails\n",
    "    text = re.sub(r\"htpp\\S+\",\"\",text) # remove urls\n",
    "    text = text.translate(str.maketrans('', '', string.punctuation)) # remove punctuation\n",
    "    return text.strip()"
   ]
  },
  {
   "cell_type": "code",
   "execution_count": 33,
   "metadata": {},
   "outputs": [
    {
     "name": "stdout",
     "output_type": "stream",
     "text": [
      "Original text:  Hello! This is a test email. Visit http://example.com for more info.\n",
      "Cleaned text:  hello this is a test email visit httpexamplecom for more info\n"
     ]
    }
   ],
   "source": [
    "sample_text = \"Hello! This is a test email. Visit http://example.com for more info.\"\n",
    "print(\"Original text: \", sample_text)\n",
    "print(\"Cleaned text: \", clean_text(sample_text))\n"
   ]
  },
  {
   "cell_type": "markdown",
   "metadata": {},
   "source": [
    "Tokenization "
   ]
  },
  {
   "cell_type": "code",
   "execution_count": 15,
   "metadata": {},
   "outputs": [],
   "source": [
    "def tokenize(text):\n",
    "    return text.split()"
   ]
  },
  {
   "cell_type": "code",
   "execution_count": 17,
   "metadata": {},
   "outputs": [
    {
     "name": "stdout",
     "output_type": "stream",
     "text": [
      "['This', 'a', 'sample', 'email.']\n",
      "['hello', 'this', 'is', 'a', 'test', 'email', 'visit', 'httpexamplecom', 'for', 'more', 'info']\n"
     ]
    }
   ],
   "source": [
    "print(tokenize(\"This a sample email.\"))\n",
    "sample_text = \"Hello! This is a test email. Visit http://example.com for more info.\"\n",
    "print(tokenize(clean_text(sample_text)))\n"
   ]
  },
  {
   "cell_type": "code",
   "execution_count": 18,
   "metadata": {},
   "outputs": [],
   "source": [
    "STOPWORDS = set([\n",
    "    'the','is','in','it','and', 'to', 'a', 'for', 'of', 'on','this','that','with', 'at','as','but',\n",
    "    'by', 'from', 'or','so','if','than','then', 'be', 'was', 'were', 'has', 'have','had', 'he', 'she','they',\n",
    "    'we', 'you', 'not', 'an', 'are', 'i', 'me', 'my', 'our', 'us', 'your', 'can', 'do', 'does', 'did', 'will', 'shall'  \n",
    "])"
   ]
  },
  {
   "cell_type": "code",
   "execution_count": 19,
   "metadata": {},
   "outputs": [],
   "source": [
    "def remove_stopwords(tokens):\n",
    "    return [word for word in tokens if word not in STOPWORDS]"
   ]
  },
  {
   "cell_type": "code",
   "execution_count": 20,
   "metadata": {},
   "outputs": [
    {
     "name": "stdout",
     "output_type": "stream",
     "text": [
      "['sample', 'email']\n"
     ]
    }
   ],
   "source": [
    "tokens = [\"this\", \"is\", \"a\", \"sample\", \"email\"]\n",
    "print(remove_stopwords(tokens))\n"
   ]
  },
  {
   "cell_type": "code",
   "execution_count": 21,
   "metadata": {},
   "outputs": [],
   "source": [
    "LEMMATIZATION = {\n",
    "    'running': 'run', 'jumps': 'jump', 'easily' : 'easy', 'better': 'good', 'worst': 'bad', 'bigger': 'big',\n",
    "    'smaller':'small', 'cars': 'car', 'dogs': 'dog', 'cats': 'cat'\n",
    "}"
   ]
  },
  {
   "cell_type": "code",
   "execution_count": 23,
   "metadata": {},
   "outputs": [],
   "source": [
    "def lemmatize(tokens):\n",
    "    return [LEMMATIZATION.get(word, word) for word in tokens]"
   ]
  },
  {
   "cell_type": "code",
   "execution_count": 24,
   "metadata": {},
   "outputs": [
    {
     "name": "stdout",
     "output_type": "stream",
     "text": [
      "['run', 'jump', 'good', 'dog']\n"
     ]
    }
   ],
   "source": [
    "print(lemmatize([\"running\", \"jumps\", \"better\", \"dogs\"]))\n"
   ]
  },
  {
   "cell_type": "code",
   "execution_count": 28,
   "metadata": {},
   "outputs": [],
   "source": [
    "def compute_tf(text_tokens):\n",
    "    word_counts = Counter(text_tokens)\n",
    "    total_words = len(text_tokens)\n",
    "    return {word: count / total_words for word, count in word_counts.items()}"
   ]
  },
  {
   "cell_type": "code",
   "execution_count": 29,
   "metadata": {},
   "outputs": [
    {
     "name": "stdout",
     "output_type": "stream",
     "text": [
      "{'spam': 0.5, 'email': 0.25, 'free': 0.25}\n"
     ]
    }
   ],
   "source": [
    "tokens = ['spam', 'email', 'spam', 'free']\n",
    "print(compute_tf(tokens))"
   ]
  },
  {
   "cell_type": "code",
   "execution_count": 26,
   "metadata": {},
   "outputs": [],
   "source": [
    "def compute_idf(dataset):\n",
    "    doc_count = len(dataset)\n",
    "    word_doc_count = Counter()\n",
    "    \n",
    "    for text in dataset:\n",
    "        words = set(tokenize(clean_text(text)))\n",
    "        for word in words:\n",
    "            word_doc_count[word] += 1\n",
    "    return {word: math.log(doc_count / (1 + count)) for word, count in word_doc_count.items()}\n"
   ]
  },
  {
   "cell_type": "code",
   "execution_count": 30,
   "metadata": {},
   "outputs": [
    {
     "name": "stdout",
     "output_type": "stream",
     "text": [
      "Sample IDF Values: [('specially', 5.069602770184372), ('distinctive', 5.357284842636153), ('image', 3.970990481516262), ('unlimited', 4.448429089249515), ('iogo', 5.517627492711332), ('no', 1.7265446754177567), ('catchy', 5.434245883772281), ('hand', 3.6491754026950223), ('creativeness', 5.434245883772281), ('hard', 3.4060976364799953)]\n"
     ]
    }
   ],
   "source": [
    "idf_values = compute_idf(df['text'])\n",
    "print(\"Sample IDF Values:\", list(idf_values.items())[:10])"
   ]
  },
  {
   "cell_type": "code",
   "execution_count": 31,
   "metadata": {},
   "outputs": [],
   "source": [
    "def compute_tf_idf(text_tokens, idf_values):\n",
    "    \"\"\"Computes TF-IDF score for each word.\"\"\"\n",
    "    tf = compute_tf(text_tokens)\n",
    "    return {word: tf[word] * idf_values.get(word, 0) for word in tf}"
   ]
  },
  {
   "cell_type": "code",
   "execution_count": 32,
   "metadata": {},
   "outputs": [
    {
     "name": "stdout",
     "output_type": "stream",
     "text": [
      "{'spam': 2.4821211272632726, 'email': 0.42130312670964937, 'free': 0.5320230126992549}\n"
     ]
    }
   ],
   "source": [
    "tokens = [\"spam\", \"email\", \"spam\", \"free\"]\n",
    "print(compute_tf_idf(tokens, idf_values))\n"
   ]
  }
 ],
 "metadata": {
  "kernelspec": {
   "display_name": "Python 3",
   "language": "python",
   "name": "python3"
  },
  "language_info": {
   "codemirror_mode": {
    "name": "ipython",
    "version": 3
   },
   "file_extension": ".py",
   "mimetype": "text/x-python",
   "name": "python",
   "nbconvert_exporter": "python",
   "pygments_lexer": "ipython3",
   "version": "3.8.10"
  }
 },
 "nbformat": 4,
 "nbformat_minor": 2
}
